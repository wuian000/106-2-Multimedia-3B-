{
 "cells": [
  {
   "cell_type": "code",
   "execution_count": 6,
   "metadata": {
    "collapsed": false
   },
   "outputs": [
    {
     "data": {
      "text/plain": [
       "<matplotlib.image.AxesImage at 0x1dc26c6d240>"
      ]
     },
     "execution_count": 6,
     "metadata": {},
     "output_type": "execute_result"
    }
   ],
   "source": [
    "from skimage import io\n",
    "import matplotlib.pyplot as plt\n",
    "import math\n",
    "import numpy as np\n",
    "def distance(color1, color2):\n",
    "    dif = 0\n",
    "    for i in range(0,3):\n",
    "        dif = dif + math.pow((color1[i]-color2[i]),2)\n",
    "    return math.sqrt(dif)\n",
    "def chromakey(image,newBg,thresh,bgColor):\n",
    "    rows,cols,dims=image.shape\n",
    "    #print(rows)\n",
    "    ret_img = np.uint8(np.zeros((rows,cols,3)))\n",
    "    for i in range(0,rows):\n",
    "        for j in range(0,cols):\n",
    "            dif = distance(image[i,j],bgColor)\n",
    "            if dif < thresh:\n",
    "                for k in range(0,3):\n",
    "                        ret_img[i,j,k] = newBg[i,j,k]\n",
    "            else:\n",
    "                for k in range(0,3):\n",
    "                        ret_img[i,j,k] = image[i,j,k]\n",
    "    return ret_img\n",
    "img=io.imread('p6CVo6Cck6eW.jpg')\n",
    "io.imshow(img)\n",
    "img2=io.imread('43587dce631ba44.jpg')\n",
    "plt.figure()\n",
    "io.imshow(img2)\n",
    "bgcolor = [0, 255, 0]\n",
    "threshold = 100\n",
    "img3 = chromakey(img, img2, threshold, bgcolor)\n",
    "plt.figure()\n",
    "io.imshow(img3)"
   ]
  },
  {
   "cell_type": "code",
   "execution_count": null,
   "metadata": {
    "collapsed": true
   },
   "outputs": [],
   "source": []
  }
 ],
 "metadata": {
  "kernelspec": {
   "display_name": "Python 3",
   "language": "python",
   "name": "python3"
  },
  "language_info": {
   "codemirror_mode": {
    "name": "ipython",
    "version": 3
   },
   "file_extension": ".py",
   "mimetype": "text/x-python",
   "name": "python",
   "nbconvert_exporter": "python",
   "pygments_lexer": "ipython3",
   "version": "3.6.0"
  }
 },
 "nbformat": 4,
 "nbformat_minor": 2
}
